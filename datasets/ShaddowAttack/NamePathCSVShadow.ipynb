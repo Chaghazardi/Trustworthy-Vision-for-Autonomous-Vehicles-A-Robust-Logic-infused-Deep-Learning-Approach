{
 "cells": [
  {
   "cell_type": "code",
   "execution_count": 9,
   "id": "d0ddc065-8fb6-41b9-8a94-ade90612ab1c",
   "metadata": {},
   "outputs": [
    {
     "name": "stdout",
     "output_type": "stream",
     "text": [
      "73\n",
      "output_path test2.csv\n",
      "['Images_out/203_12_11_True.png', 'Images_out/204_12_71_True.png', 'Images_out/205_12_17_True.png', 'Images_out/206_12_40_True.png', 'Images_out/207_12_28_True.png', 'Images_out/211_12_11_True.png', 'Images_out/212_12_58_True.png', 'Images_out/213_12_139_True.png', 'Images_out/214_12_97_True.png', 'Images_out/215_12_36_True.png', 'Images_out/216_12_15_True.png', 'Images_out/217_12_235_True.png', 'Images_out/218_12_827_True.png', 'Images_out/220_12_32_True.png', 'Images_out/221_12_15_True.png', 'Images_out/223_12_19_True.png', 'Images_out/224_12_14_True.png', 'Images_out/233_12_99_True.png', 'Images_out/244_12_14_True.png', 'Images_out/245_12_12_True.png', 'Images_out/247_12_66_True.png', 'Images_out/248_12_12_True.png', 'Images_out/249_12_115_True.png', 'Images_out/250_12_14_True.png', 'Images_out/251_12_16_True.png', 'Images_out/253_12_28_True.png', 'Images_out/254_12_118_True.png', 'Images_out/255_12_25_True.png', 'Images_out/256_12_13_True.png', 'Images_out/257_12_11_True.png', 'Images_out/259_12_13_True.png', 'Images_out/262_12_30_True.png', 'Images_out/264_12_15_True.png', 'Images_out/265_12_19_True.png', 'Images_out/267_12_15_True.png', 'Images_out/268_12_12_True.png', 'Images_out/269_12_12_True.png', 'Images_out/271_12_11_True.png', 'Images_out/272_12_11_True.png', 'Images_out/273_12_41_True.png', 'Images_out/279_12_179_True.png', 'Images_out/280_12_510_True.png', 'Images_out/304_12_39_True.png', 'Images_out/319_12_14_True.png', 'Images_out/327_12_76_True.png', 'Images_out/328_12_12_True.png', 'Images_out/329_12_12_True.png', 'Images_out/331_12_12_True.png', 'Images_out/332_12_13_True.png', 'Images_out/334_12_11_True.png', 'Images_out/335_12_43_True.png', 'Images_out/336_12_11_True.png', 'Images_out/337_12_15_True.png', 'Images_out/347_12_26_True.png', 'Images_out/348_12_98_True.png', 'Images_out/398_12_45_True.png', 'Images_out/399_12_12_True.png', 'Images_out/400_12_138_True.png', 'Images_out/401_12_12_True.png', 'Images_out/402_12_11_True.png', 'Images_out/403_12_15_True.png', 'Images_out/404_12_77_True.png', 'Images_out/406_12_16_True.png', 'Images_out/408_12_17_True.png', 'Images_out/409_12_17_True.png', 'Images_out/410_12_12_True.png', 'Images_out/514_12_104_True.png', 'Images_out/516_12_201_True.png', 'Images_out/517_12_85_True.png', 'Images_out/521_12_2416_True.png', 'Images_out/531_12_312_True.png', 'Images_out/532_12_83_True.png', 'Images_out/533_12_84_True.png']\n"
     ]
    }
   ],
   "source": [
    "import glob\n",
    "import os\n",
    "\n",
    "# Get a sorted list of filenames\n",
    "\n",
    "colors  = { 0:'red', 1:'blue', 2:'yellow', 3:'black'}\n",
    "Shapes  = { 0:'triangle', 1:'circle', 2:'diamond', 3:'octagon', 4:'inverse triangle'}\n",
    "Symbols = { 0:'digit', 1:'text', 2:'cross', 3:'pedestrian', 4:'bicycle', 5:'animal',  6:'blank', 7:'car', 8:'caution', 9:'light', 10: 'rectangle', 11:'snowflake', 12:'ArrowL', 13:'ArrowR', 14:'bump', 15:'arrow', 16:'van', 17:'roundabout', 18:'doublecurve', 19:'narrowR'}          \n",
    "\n",
    "\n",
    "\n",
    "# filenames = sorted(glob.glob('Images/*.bmp'))\n",
    "filenames = sorted(glob.glob('Images_out/*.png'))\n",
    "print(len(filenames))\n",
    "\n",
    "# filenames = sorted(glob.glob(In_path))\n",
    "\n",
    "\n",
    "\n",
    "images_folder = path\n",
    "\n",
    "\n",
    "output_path = 'test2.csv'\n",
    "print('output_path',output_path)\n",
    "\n",
    "if os.path.exists(output_path):\n",
    "    os.remove(output_path)\n",
    "\n",
    "print(filenames)\n",
    "\n",
    "\n",
    "# Open the file for writing\n",
    "# with open('Train.csv', 'w') as f:\n",
    "with open(output_path, 'w') as f:\n",
    "    # Write the header line with column names\n",
    "    f.write(\"File Path, Class ID, Shape ID, Color ID, Symbol ID\\n\")\n",
    "    \n",
    "    # Write the sorted filenames along with color and shape IDs\n",
    "    for file in filenames:\n",
    "        # Extract the filename without the extension\n",
    "        # base_filename = os.path.splitext(os.path.basename(file))[0]\n",
    "        color_id = 0   \n",
    "        shape_id = 3   \n",
    "        symbol_id = 1             \n",
    "        class_Id = 14\n",
    "        file = os.path.join('datasets/ShaddowAttack', file)\n",
    "            # Write the data to the CSV file\n",
    "        f.write(f\"{file}, {class_Id}, {shape_id}, {color_id}, {symbol_id}\\n\")\n"
   ]
  },
  {
   "cell_type": "code",
   "execution_count": null,
   "id": "2bca1556-2883-4bcb-831a-8996da965dbb",
   "metadata": {},
   "outputs": [],
   "source": []
  },
  {
   "cell_type": "code",
   "execution_count": 8,
   "id": "c2bcb0a7-315d-4128-bc0e-92f56518a744",
   "metadata": {},
   "outputs": [
    {
     "name": "stdout",
     "output_type": "stream",
     "text": [
      "73 BMP images converted to RGB and saved in Images_out.\n"
     ]
    }
   ],
   "source": [
    "from PIL import Image\n",
    "import os\n",
    "\n",
    "\n",
    "# Set the folder containing BMP images\n",
    "input_folder = 'Images'\n",
    "\n",
    "# Set the folder where you want to save the RGB images\n",
    "output_folder = 'Images_out'\n",
    "\n",
    "# Create the output folder if it doesn't exist\n",
    "if not os.path.exists(output_folder):\n",
    "    os.makedirs(output_folder)\n",
    "\n",
    "# List all files in the input folder\n",
    "bmp_files = [f for f in os.listdir(input_folder) if f.lower().endswith(\".bmp\")]\n",
    "\n",
    "for bmp_file in bmp_files:\n",
    "    input_path = os.path.join(input_folder, bmp_file)\n",
    "    output_path = os.path.join(output_folder, os.path.splitext(bmp_file)[0] + \".png\")\n",
    "\n",
    "    # Open the BMP image and convert it to RGB\n",
    "    img = Image.open(input_path).convert(\"RGB\")\n",
    "\n",
    "    # Save the image in RGB format (PNG)\n",
    "    img.save(output_path, \"PNG\")\n",
    "\n",
    "print(f\"{len(bmp_files)} BMP images converted to RGB and saved in {output_folder}.\")\n"
   ]
  },
  {
   "cell_type": "code",
   "execution_count": null,
   "id": "c4185b57-a508-4429-8237-3f5ebdab1af9",
   "metadata": {},
   "outputs": [],
   "source": []
  }
 ],
 "metadata": {
  "kernelspec": {
   "display_name": "Python 3 (ipykernel)",
   "language": "python",
   "name": "python3"
  },
  "language_info": {
   "codemirror_mode": {
    "name": "ipython",
    "version": 3
   },
   "file_extension": ".py",
   "mimetype": "text/x-python",
   "name": "python",
   "nbconvert_exporter": "python",
   "pygments_lexer": "ipython3",
   "version": "3.9.6"
  }
 },
 "nbformat": 4,
 "nbformat_minor": 5
}
