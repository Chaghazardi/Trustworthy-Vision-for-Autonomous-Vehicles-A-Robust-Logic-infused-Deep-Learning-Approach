{
 "cells": [
  {
   "cell_type": "code",
   "execution_count": 2,
   "id": "d0ddc065-8fb6-41b9-8a94-ade90612ab1c",
   "metadata": {},
   "outputs": [
    {
     "name": "stdout",
     "output_type": "stream",
     "text": [
      "80\n",
      "output_path test_dirty.csv\n",
      "['Images/stop0.jpeg', 'Images/stop1.jpeg', 'Images/stop10.jpeg', 'Images/stop11.jpeg', 'Images/stop12.jpeg', 'Images/stop13.jpeg', 'Images/stop14.jpeg', 'Images/stop15.jpeg', 'Images/stop16.jpeg', 'Images/stop17.jpeg', 'Images/stop18.jpeg', 'Images/stop19.jpeg', 'Images/stop2.jpeg', 'Images/stop20.jpeg', 'Images/stop21.jpeg', 'Images/stop22.jpeg', 'Images/stop23.jpeg', 'Images/stop24.jpeg', 'Images/stop25.jpeg', 'Images/stop26.jpeg', 'Images/stop27.jpeg', 'Images/stop28.jpeg', 'Images/stop29.jpeg', 'Images/stop3.jpeg', 'Images/stop30.jpeg', 'Images/stop31.jpeg', 'Images/stop32.jpeg', 'Images/stop33.jpeg', 'Images/stop34.jpeg', 'Images/stop35.jpeg', 'Images/stop36.jpeg', 'Images/stop37.jpeg', 'Images/stop38.jpeg', 'Images/stop39.jpeg', 'Images/stop4.jpeg', 'Images/stop40.jpeg', 'Images/stop41.jpeg', 'Images/stop42.jpeg', 'Images/stop43.jpeg', 'Images/stop44.jpeg', 'Images/stop45.jpeg', 'Images/stop46.jpeg', 'Images/stop47.jpeg', 'Images/stop48.jpeg', 'Images/stop49.jpeg', 'Images/stop5.jpeg', 'Images/stop50.jpeg', 'Images/stop51.jpeg', 'Images/stop52.jpeg', 'Images/stop53.jpeg', 'Images/stop54.jpeg', 'Images/stop55.jpeg', 'Images/stop56.jpeg', 'Images/stop57.jpeg', 'Images/stop58.jpeg', 'Images/stop59.jpeg', 'Images/stop6.jpeg', 'Images/stop60.jpeg', 'Images/stop61.jpeg', 'Images/stop62.jpeg', 'Images/stop63.jpeg', 'Images/stop64.jpeg', 'Images/stop65.jpeg', 'Images/stop66.jpeg', 'Images/stop67.jpeg', 'Images/stop68.jpeg', 'Images/stop69.jpeg', 'Images/stop7.jpeg', 'Images/stop70.jpeg', 'Images/stop71.jpeg', 'Images/stop72.jpeg', 'Images/stop73.jpeg', 'Images/stop74.jpeg', 'Images/stop75.jpeg', 'Images/stop76.jpeg', 'Images/stop77.jpeg', 'Images/stop78.jpeg', 'Images/stop79.jpeg', 'Images/stop8.jpeg', 'Images/stop9.jpeg']\n"
     ]
    }
   ],
   "source": [
    "import glob\n",
    "import os\n",
    "\n",
    "# Get a sorted list of filenames\n",
    "\n",
    "colors  = { 0:'red', 1:'blue', 2:'yellow', 3:'black'}\n",
    "Shapes  = { 0:'triangle', 1:'circle', 2:'diamond', 3:'octagon', 4:'inverse triangle'}\n",
    "Symbols = { 0:'digit', 1:'text', 2:'cross', 3:'pedestrian', 4:'bicycle', 5:'animal',  6:'blank', 7:'car', 8:'caution', 9:'light', 10: 'rectangle', 11:'snowflake', 12:'ArrowL', 13:'ArrowR', 14:'bump', 15:'arrow', 16:'van', 17:'roundabout', 18:'doublecurve', 19:'narrowR'}          \n",
    "\n",
    "\n",
    "\n",
    "# filenames = sorted(glob.glob('Images/*.bmp'))\n",
    "filenames = sorted(glob.glob('Images/*.jpeg'))\n",
    "print(len(filenames))\n",
    "\n",
    "# filenames = sorted(glob.glob(In_path))\n",
    "\n",
    "\n",
    "\n",
    "images_folder = 'Images'\n",
    "\n",
    "\n",
    "output_path = 'test_dirty.csv'\n",
    "print('output_path',output_path)\n",
    "\n",
    "if os.path.exists(output_path):\n",
    "    os.remove(output_path)\n",
    "\n",
    "print(filenames)\n",
    "\n",
    "\n",
    "# Open the file for writing\n",
    "# with open('Train.csv', 'w') as f:\n",
    "with open(output_path, 'w') as f:\n",
    "    # Write the header line with column names\n",
    "    f.write(\"File Path, Class ID, Shape ID, Color ID, Symbol ID\\n\")\n",
    "    \n",
    "    # Write the sorted filenames along with color and shape IDs\n",
    "    for file in filenames:\n",
    "        # Extract the filename without the extension\n",
    "        # base_filename = os.path.splitext(os.path.basename(file))[0]\n",
    "        color_id = 0   \n",
    "        shape_id = 3   \n",
    "        symbol_id = 1             \n",
    "        class_Id = 14\n",
    "        file = os.path.join('datasets/dirty', file)\n",
    "            # Write the data to the CSV file\n",
    "        f.write(f\"{file}, {class_Id}, {shape_id}, {color_id}, {symbol_id}\\n\")\n"
   ]
  },
  {
   "cell_type": "code",
   "execution_count": null,
   "id": "2bca1556-2883-4bcb-831a-8996da965dbb",
   "metadata": {},
   "outputs": [],
   "source": []
  },
  {
   "cell_type": "code",
   "execution_count": 8,
   "id": "c2bcb0a7-315d-4128-bc0e-92f56518a744",
   "metadata": {},
   "outputs": [
    {
     "name": "stdout",
     "output_type": "stream",
     "text": [
      "73 BMP images converted to RGB and saved in Images_out.\n"
     ]
    }
   ],
   "source": [
    "from PIL import Image\n",
    "import os\n",
    "\n",
    "\n",
    "# Set the folder containing BMP images\n",
    "input_folder = 'Images'\n",
    "\n",
    "# Set the folder where you want to save the RGB images\n",
    "output_folder = 'Images_out'\n",
    "\n",
    "# Create the output folder if it doesn't exist\n",
    "if not os.path.exists(output_folder):\n",
    "    os.makedirs(output_folder)\n",
    "\n",
    "# List all files in the input folder\n",
    "bmp_files = [f for f in os.listdir(input_folder) if f.lower().endswith(\".bmp\")]\n",
    "\n",
    "for bmp_file in bmp_files:\n",
    "    input_path = os.path.join(input_folder, bmp_file)\n",
    "    output_path = os.path.join(output_folder, os.path.splitext(bmp_file)[0] + \".png\")\n",
    "\n",
    "    # Open the BMP image and convert it to RGB\n",
    "    img = Image.open(input_path).convert(\"RGB\")\n",
    "\n",
    "    # Save the image in RGB format (PNG)\n",
    "    img.save(output_path, \"PNG\")\n",
    "\n",
    "print(f\"{len(bmp_files)} BMP images converted to RGB and saved in {output_folder}.\")\n"
   ]
  },
  {
   "cell_type": "code",
   "execution_count": null,
   "id": "c4185b57-a508-4429-8237-3f5ebdab1af9",
   "metadata": {},
   "outputs": [],
   "source": []
  }
 ],
 "metadata": {
  "kernelspec": {
   "display_name": "Python 3 (ipykernel)",
   "language": "python",
   "name": "python3"
  },
  "language_info": {
   "codemirror_mode": {
    "name": "ipython",
    "version": 3
   },
   "file_extension": ".py",
   "mimetype": "text/x-python",
   "name": "python",
   "nbconvert_exporter": "python",
   "pygments_lexer": "ipython3",
   "version": "3.9.6"
  }
 },
 "nbformat": 4,
 "nbformat_minor": 5
}
