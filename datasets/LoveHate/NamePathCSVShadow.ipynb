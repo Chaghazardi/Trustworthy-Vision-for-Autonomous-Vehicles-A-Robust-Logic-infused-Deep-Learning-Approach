{
 "cells": [
  {
   "cell_type": "code",
   "execution_count": 2,
   "id": "d0ddc065-8fb6-41b9-8a94-ade90612ab1c",
   "metadata": {},
   "outputs": [
    {
     "name": "stdout",
     "output_type": "stream",
     "text": [
      "16\n",
      "output_path testLH.csv\n",
      "['ImagesLH/1 2.png', 'ImagesLH/1 3.png', 'ImagesLH/1 4.png', 'ImagesLH/1 5.png', 'ImagesLH/1.png', 'ImagesLH/2 2.png', 'ImagesLH/2 3.png', 'ImagesLH/2.png', 'ImagesLH/3 2.png', 'ImagesLH/3.png', 'ImagesLH/4 2.png', 'ImagesLH/4.png', 'ImagesLH/5.png', 'ImagesLH/6.png', 'ImagesLH/7.png', 'ImagesLH/8.png']\n"
     ]
    }
   ],
   "source": [
    "import glob\n",
    "import os\n",
    "\n",
    "# Get a sorted list of filenames\n",
    "\n",
    "colors  = { 0:'red', 1:'blue', 2:'yellow', 3:'black'}\n",
    "Shapes  = { 0:'triangle', 1:'circle', 2:'diamond', 3:'octagon', 4:'inverse triangle'}\n",
    "Symbols = { 0:'digit', 1:'text', 2:'cross', 3:'pedestrian', 4:'bicycle', 5:'animal',  6:'blank', 7:'car', 8:'caution', 9:'light', 10: 'rectangle', 11:'snowflake', 12:'ArrowL', 13:'ArrowR', 14:'bump', 15:'arrow', 16:'van', 17:'roundabout', 18:'doublecurve', 19:'narrowR'}          \n",
    "\n",
    "\n",
    "\n",
    "# filenames = sorted(glob.glob('Images/*.bmp'))\n",
    "filenames = sorted(glob.glob('ImagesLH/*.png'))\n",
    "print(len(filenames))\n",
    "\n",
    "# filenames = sorted(glob.glob(In_path))\n",
    "\n",
    "\n",
    "\n",
    "images_folder = 'ImagesLH'\n",
    "\n",
    "\n",
    "output_path = 'testLH.csv'\n",
    "print('output_path',output_path)\n",
    "\n",
    "if os.path.exists(output_path):\n",
    "    os.remove(output_path)\n",
    "\n",
    "print(filenames)\n",
    "\n",
    "\n",
    "# Open the file for writing\n",
    "# with open('Train.csv', 'w') as f:\n",
    "with open(output_path, 'w') as f:\n",
    "    # Write the header line with column names\n",
    "    f.write(\"File Path, Class ID, Shape ID, Color ID, Symbol ID\\n\")\n",
    "    \n",
    "    # Write the sorted filenames along with color and shape IDs\n",
    "    for file in filenames:\n",
    "        # Extract the filename without the extension\n",
    "        # base_filename = os.path.splitext(os.path.basename(file))[0]\n",
    "        color_id = 0   \n",
    "        shape_id = 3   \n",
    "        symbol_id = 1             \n",
    "        class_Id = 14\n",
    "        file = os.path.join('datasets/LoveHate', file)\n",
    "            # Write the data to the CSV file\n",
    "        f.write(f\"{file}, {class_Id}, {shape_id}, {color_id}, {symbol_id}\\n\")\n"
   ]
  },
  {
   "cell_type": "code",
   "execution_count": null,
   "id": "2bca1556-2883-4bcb-831a-8996da965dbb",
   "metadata": {},
   "outputs": [],
   "source": []
  },
  {
   "cell_type": "code",
   "execution_count": 8,
   "id": "c2bcb0a7-315d-4128-bc0e-92f56518a744",
   "metadata": {},
   "outputs": [
    {
     "name": "stdout",
     "output_type": "stream",
     "text": [
      "73 BMP images converted to RGB and saved in Images_out.\n"
     ]
    }
   ],
   "source": [
    "from PIL import Image\n",
    "import os\n",
    "\n",
    "\n",
    "# Set the folder containing BMP images\n",
    "input_folder = 'Images'\n",
    "\n",
    "# Set the folder where you want to save the RGB images\n",
    "output_folder = 'Images_out'\n",
    "\n",
    "# Create the output folder if it doesn't exist\n",
    "if not os.path.exists(output_folder):\n",
    "    os.makedirs(output_folder)\n",
    "\n",
    "# List all files in the input folder\n",
    "bmp_files = [f for f in os.listdir(input_folder) if f.lower().endswith(\".bmp\")]\n",
    "\n",
    "for bmp_file in bmp_files:\n",
    "    input_path = os.path.join(input_folder, bmp_file)\n",
    "    output_path = os.path.join(output_folder, os.path.splitext(bmp_file)[0] + \".png\")\n",
    "\n",
    "    # Open the BMP image and convert it to RGB\n",
    "    img = Image.open(input_path).convert(\"RGB\")\n",
    "\n",
    "    # Save the image in RGB format (PNG)\n",
    "    img.save(output_path, \"PNG\")\n",
    "\n",
    "print(f\"{len(bmp_files)} BMP images converted to RGB and saved in {output_folder}.\")\n"
   ]
  },
  {
   "cell_type": "code",
   "execution_count": null,
   "id": "c4185b57-a508-4429-8237-3f5ebdab1af9",
   "metadata": {},
   "outputs": [],
   "source": []
  }
 ],
 "metadata": {
  "kernelspec": {
   "display_name": "Python 3 (ipykernel)",
   "language": "python",
   "name": "python3"
  },
  "language_info": {
   "codemirror_mode": {
    "name": "ipython",
    "version": 3
   },
   "file_extension": ".py",
   "mimetype": "text/x-python",
   "name": "python",
   "nbconvert_exporter": "python",
   "pygments_lexer": "ipython3",
   "version": "3.9.6"
  }
 },
 "nbformat": 4,
 "nbformat_minor": 5
}
